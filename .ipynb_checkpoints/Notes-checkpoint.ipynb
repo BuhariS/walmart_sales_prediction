{
 "cells": [
  {
   "cell_type": "markdown",
   "id": "cf9e1a12",
   "metadata": {},
   "source": [
    "# Notes"
   ]
  },
  {
   "cell_type": "markdown",
   "id": "479b2862",
   "metadata": {},
   "source": [
    "## README\n",
    "An ideal README should contain the following sections:\n",
    "\n",
    "- A proper description of what the project is about and what it does\n",
    "- List of software dependencies required to run the project and how to install them\n",
    "- Step by Step details about how to run the project\n",
    "\n",
    "\n",
    "\n",
    "## Udacity Git Commit Message Style Guide\n",
    "### Commit Messages\n",
    "\n",
    "**Message Structure**\n",
    "\n",
    "A commit message consists of three distinct parts separated by a blank line: the title, an optional body and an optional footer. The layout looks like this:\n",
    "\n",
    "type: subject\n",
    "\n",
    "body\n",
    "\n",
    "footer\n",
    "The title consists of the type of the message and subject.\n",
    "\n",
    "**The Type**\n",
    "The type is contained within the title and can be one of these types:\n",
    "\n",
    "- feat: a new feature\n",
    "- fix: a bug fix\n",
    "- docs: changes to documentation\n",
    "- style: formatting, missing semi colons, etc; no code change\n",
    "- refactor: refactoring production code\n",
    "- test: adding tests, refactoring test; no production code change\n",
    "- chore: updating build tasks, package manager configs, etc; no production code change\n",
    "\n",
    "**The Subject**\n",
    "Subjects should be no greater than 50 characters, should begin with a capital letter and do not end with a period.\n",
    "\n",
    "Use an imperative tone to describe what a commit does, rather than what it did. For example, use change; not changed or changes.\n",
    "\n",
    "**The Body**\n",
    "Not all commits are complex enough to warrant a body, therefore it is optional and only used when a commit requires a bit of explanation and context. Use the body to explain the what and why of a commit, not the how.\n",
    "\n",
    "When writing a body, the blank line between the title and the body is required and you should limit the length of each line to no more than 72 characters.\n",
    "\n",
    "**The Footer**\n",
    "The footer is optional and is used to reference issue tracker IDs.\n",
    "\n",
    "**Example Commit Message**\n",
    "feat: Summarize changes in around 50 characters or less\n",
    "\n",
    "More detailed explanatory text, if necessary. Wrap it to about 72 characters or so. In some contexts, the first line is treated as the subject of the commit and the rest of the text as the body. The blank line separating the summary from the body is critical (unless you omit the body entirely); various tools like log, shortlog and rebase can get confused if you run the two together.\n",
    "\n",
    "Explain the problem that this commit is solving. Focus on why you are making this change as opposed to how (the code explains that). Are there side effects or other unintuitive consequences of this change? Here's the place to explain them.\n",
    "\n",
    "Further paragraphs come after blank lines.\n",
    "\n",
    "Bullet points are okay, too\n",
    "Typically a hyphen - or asterisk * is used for the bullet, preceded by a single space, with blank lines in between, but conventions vary here\n",
    "If you use an issue tracker, put references to them at the bottom, like this:\n",
    "Resolves: #123\n",
    "See also: #456, #789"
   ]
  },
  {
   "cell_type": "markdown",
   "id": "0caa73f5",
   "metadata": {},
   "source": [
    "## for reference to github guide Udacity\n",
    "[See](https://docs.google.com/document/d/e/2PACX-1vSkShiwfp8DP79yO1wiGI2cyDqlzMugMdivXzMfr_6CVESvbLAVYeiZowV47VJMRQ_L4F4fdeQjo9qd/pub)\n"
   ]
  }
 ],
 "metadata": {
  "kernelspec": {
   "display_name": "Python 3 (ipykernel)",
   "language": "python",
   "name": "python3"
  },
  "language_info": {
   "codemirror_mode": {
    "name": "ipython",
    "version": 3
   },
   "file_extension": ".py",
   "mimetype": "text/x-python",
   "name": "python",
   "nbconvert_exporter": "python",
   "pygments_lexer": "ipython3",
   "version": "3.9.7"
  }
 },
 "nbformat": 4,
 "nbformat_minor": 5
}
